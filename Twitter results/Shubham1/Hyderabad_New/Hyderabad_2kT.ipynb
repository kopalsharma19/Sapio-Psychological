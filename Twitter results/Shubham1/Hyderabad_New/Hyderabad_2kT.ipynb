{
 "cells": [
  {
   "cell_type": "code",
   "execution_count": 120,
   "metadata": {},
   "outputs": [],
   "source": [
    "import pandas as pd\n",
    "import numpy as np\n",
    "import re\n",
    "import pandas as pd \n",
    "import numpy as np \n",
    "import matplotlib.pyplot as plt \n",
    "import seaborn as sns\n",
    "import string\n",
    "import nltk\n",
    "import warnings \n",
    "\n",
    "from textblob import TextBlob\n",
    "from nltk.corpus import stopwords\n",
    "\n",
    "warnings.filterwarnings(\"ignore\", category=DeprecationWarning)\n",
    "\n",
    "%matplotlib inline\n",
    "\n",
    "data = pd.read_csv('Tweets3.csv')"
   ]
  },
  {
   "cell_type": "code",
   "execution_count": 121,
   "metadata": {},
   "outputs": [
    {
     "name": "stdout",
     "output_type": "stream",
     "text": [
      "Requirement already satisfied: textblob in c:\\users\\admin\\anaconda3\\lib\\site-packages (0.15.3)\n",
      "Requirement already satisfied: nltk>=3.1 in c:\\users\\admin\\anaconda3\\lib\\site-packages (from textblob) (3.4.5)\n",
      "Requirement already satisfied: six in c:\\users\\admin\\anaconda3\\lib\\site-packages (from nltk>=3.1->textblob) (1.12.0)\n"
     ]
    }
   ],
   "source": [
    "!pip install textblob\n",
    "import textblob"
   ]
  },
  {
   "cell_type": "code",
   "execution_count": 122,
   "metadata": {},
   "outputs": [],
   "source": [
    "from textblob import TextBlob\n",
    "from nltk.corpus import stopwords\n",
    "\n"
   ]
  },
  {
   "cell_type": "code",
   "execution_count": 123,
   "metadata": {},
   "outputs": [],
   "source": [
    "\n",
    "def remove_pattern(input_txt, pattern):\n",
    "    r = re.findall(pattern, input_txt)\n",
    "    for i in r:\n",
    "        input_txt = re.sub(i, '', input_txt)\n",
    "        \n",
    "    return input_txt"
   ]
  },
  {
   "cell_type": "code",
   "execution_count": 124,
   "metadata": {},
   "outputs": [],
   "source": [
    "data = pd.read_csv('Tweets3.csv')\n",
    "data['tidy_tweet'] = np.vectorize(remove_pattern)(data['text'], \"@[\\w]*\")"
   ]
  },
  {
   "cell_type": "code",
   "execution_count": 125,
   "metadata": {},
   "outputs": [],
   "source": [
    "data['tidy_tweet'] = data['tidy_tweet'].str.replace(\"[^a-zA-Z#]\", \" \")\n",
    "#data['tidy_tweet'] = data['tidy_tweet'].apply(lambda x: ' '.join([w for w in x.split() if len(w)>3]))"
   ]
  },
  {
   "cell_type": "code",
   "execution_count": 126,
   "metadata": {},
   "outputs": [
    {
     "name": "stderr",
     "output_type": "stream",
     "text": [
      "C:\\Users\\ADMIN\\Anaconda3\\lib\\site-packages\\ipykernel_launcher.py:4: SettingWithCopyWarning: \n",
      "A value is trying to be set on a copy of a slice from a DataFrame\n",
      "\n",
      "See the caveats in the documentation: http://pandas.pydata.org/pandas-docs/stable/user_guide/indexing.html#returning-a-view-versus-a-copy\n",
      "  after removing the cwd from sys.path.\n",
      "C:\\Users\\ADMIN\\Anaconda3\\lib\\site-packages\\ipykernel_launcher.py:10: SettingWithCopyWarning: \n",
      "A value is trying to be set on a copy of a slice from a DataFrame\n",
      "\n",
      "See the caveats in the documentation: http://pandas.pydata.org/pandas-docs/stable/user_guide/indexing.html#returning-a-view-versus-a-copy\n",
      "  # Remove the CWD from sys.path while we load stuff.\n"
     ]
    },
    {
     "data": {
      "text/html": [
       "<div>\n",
       "<style scoped>\n",
       "    .dataframe tbody tr th:only-of-type {\n",
       "        vertical-align: middle;\n",
       "    }\n",
       "\n",
       "    .dataframe tbody tr th {\n",
       "        vertical-align: top;\n",
       "    }\n",
       "\n",
       "    .dataframe thead th {\n",
       "        text-align: right;\n",
       "    }\n",
       "</style>\n",
       "<table border=\"1\" class=\"dataframe\">\n",
       "  <thead>\n",
       "    <tr style=\"text-align: right;\">\n",
       "      <th></th>\n",
       "      <th>Sr_No</th>\n",
       "      <th>date</th>\n",
       "      <th>text</th>\n",
       "      <th>username</th>\n",
       "      <th>tidy_tweet</th>\n",
       "    </tr>\n",
       "  </thead>\n",
       "  <tbody>\n",
       "    <tr>\n",
       "      <td>0</td>\n",
       "      <td>0</td>\n",
       "      <td>2020-06-12 12:06:32+00:00</td>\n",
       "      <td>Government mulling to include sudden loss of t...</td>\n",
       "      <td>TheHansIndiaWeb</td>\n",
       "      <td>government mulling to include sudden loss of t...</td>\n",
       "    </tr>\n",
       "    <tr>\n",
       "      <td>1</td>\n",
       "      <td>1</td>\n",
       "      <td>2020-06-12 12:04:49+00:00</td>\n",
       "      <td>I know what is common THESE COUNTRIES TRIED SO...</td>\n",
       "      <td>sudarshansvvs</td>\n",
       "      <td>i know what is common these countries tried so...</td>\n",
       "    </tr>\n",
       "    <tr>\n",
       "      <td>2</td>\n",
       "      <td>2</td>\n",
       "      <td>2020-06-12 12:03:30+00:00</td>\n",
       "      <td>To effectively battle Covid-19, India must do ...</td>\n",
       "      <td>DesiDisaNews</td>\n",
       "      <td>to effectively battle india must do much more ...</td>\n",
       "    </tr>\n",
       "    <tr>\n",
       "      <td>3</td>\n",
       "      <td>3</td>\n",
       "      <td>2020-06-12 11:59:53+00:00</td>\n",
       "      <td>You should also seek their expertise in handli...</td>\n",
       "      <td>mizozeitgeist</td>\n",
       "      <td>you should also seek their expertise in handli...</td>\n",
       "    </tr>\n",
       "    <tr>\n",
       "      <td>4</td>\n",
       "      <td>4</td>\n",
       "      <td>2020-06-12 11:57:10+00:00</td>\n",
       "      <td>I had called Air India customer care, but was ...</td>\n",
       "      <td>khanra_samapan</td>\n",
       "      <td>i had called air india customer care but was i...</td>\n",
       "    </tr>\n",
       "  </tbody>\n",
       "</table>\n",
       "</div>"
      ],
      "text/plain": [
       "   Sr_No                       date  \\\n",
       "0      0  2020-06-12 12:06:32+00:00   \n",
       "1      1  2020-06-12 12:04:49+00:00   \n",
       "2      2  2020-06-12 12:03:30+00:00   \n",
       "3      3  2020-06-12 11:59:53+00:00   \n",
       "4      4  2020-06-12 11:57:10+00:00   \n",
       "\n",
       "                                                text         username  \\\n",
       "0  Government mulling to include sudden loss of t...  TheHansIndiaWeb   \n",
       "1  I know what is common THESE COUNTRIES TRIED SO...    sudarshansvvs   \n",
       "2  To effectively battle Covid-19, India must do ...     DesiDisaNews   \n",
       "3  You should also seek their expertise in handli...    mizozeitgeist   \n",
       "4  I had called Air India customer care, but was ...   khanra_samapan   \n",
       "\n",
       "                                          tidy_tweet  \n",
       "0  government mulling to include sudden loss of t...  \n",
       "1  i know what is common these countries tried so...  \n",
       "2  to effectively battle india must do much more ...  \n",
       "3  you should also seek their expertise in handli...  \n",
       "4  i had called air india customer care but was i...  "
      ]
     },
     "execution_count": 126,
     "metadata": {},
     "output_type": "execute_result"
    }
   ],
   "source": [
    "stop_words2= ['https','covid']\n",
    "\n",
    "for i in range(len(data['tidy_tweet'])):\n",
    "    data['tidy_tweet'][i]= data['tidy_tweet'][i].lower()\n",
    "    query= data['tidy_tweet'][i]\n",
    "    querywords = query.split()\n",
    "    #querywords  = [word for word in querywords if word.lower() not in stop_words]\n",
    "    resultwords  = [word for word in querywords if word.lower() not in stop_words2]\n",
    "    result = ' '.join(resultwords)\n",
    "    data['tidy_tweet'][i]= result\n",
    "    \n",
    "\n",
    "data.head()"
   ]
  },
  {
   "cell_type": "code",
   "execution_count": 127,
   "metadata": {},
   "outputs": [],
   "source": [
    "pol=[]\n",
    "for i in range(len(data['tidy_tweet'])):\n",
    "      blob = TextBlob(data['tidy_tweet'][i])\n",
    "      Sentiment = blob.sentiment    \n",
    "      polarity = Sentiment.polarity\n",
    "      subjectivity = Sentiment.subjectivity\n",
    "      pol.append(polarity)"
   ]
  },
  {
   "cell_type": "code",
   "execution_count": 128,
   "metadata": {},
   "outputs": [
    {
     "data": {
      "text/html": [
       "<div>\n",
       "<style scoped>\n",
       "    .dataframe tbody tr th:only-of-type {\n",
       "        vertical-align: middle;\n",
       "    }\n",
       "\n",
       "    .dataframe tbody tr th {\n",
       "        vertical-align: top;\n",
       "    }\n",
       "\n",
       "    .dataframe thead th {\n",
       "        text-align: right;\n",
       "    }\n",
       "</style>\n",
       "<table border=\"1\" class=\"dataframe\">\n",
       "  <thead>\n",
       "    <tr style=\"text-align: right;\">\n",
       "      <th></th>\n",
       "      <th>Sr_No</th>\n",
       "      <th>date</th>\n",
       "      <th>text</th>\n",
       "      <th>username</th>\n",
       "      <th>tidy_tweet</th>\n",
       "      <th>polarity</th>\n",
       "    </tr>\n",
       "  </thead>\n",
       "  <tbody>\n",
       "    <tr>\n",
       "      <td>0</td>\n",
       "      <td>0</td>\n",
       "      <td>2020-06-12 12:06:32+00:00</td>\n",
       "      <td>Government mulling to include sudden loss of t...</td>\n",
       "      <td>TheHansIndiaWeb</td>\n",
       "      <td>government mulling to include sudden loss of t...</td>\n",
       "      <td>0.000000</td>\n",
       "    </tr>\n",
       "    <tr>\n",
       "      <td>1</td>\n",
       "      <td>1</td>\n",
       "      <td>2020-06-12 12:04:49+00:00</td>\n",
       "      <td>I know what is common THESE COUNTRIES TRIED SO...</td>\n",
       "      <td>sudarshansvvs</td>\n",
       "      <td>i know what is common these countries tried so...</td>\n",
       "      <td>-0.195833</td>\n",
       "    </tr>\n",
       "    <tr>\n",
       "      <td>2</td>\n",
       "      <td>2</td>\n",
       "      <td>2020-06-12 12:03:30+00:00</td>\n",
       "      <td>To effectively battle Covid-19, India must do ...</td>\n",
       "      <td>DesiDisaNews</td>\n",
       "      <td>to effectively battle india must do much more ...</td>\n",
       "      <td>0.550000</td>\n",
       "    </tr>\n",
       "    <tr>\n",
       "      <td>3</td>\n",
       "      <td>3</td>\n",
       "      <td>2020-06-12 11:59:53+00:00</td>\n",
       "      <td>You should also seek their expertise in handli...</td>\n",
       "      <td>mizozeitgeist</td>\n",
       "      <td>you should also seek their expertise in handli...</td>\n",
       "      <td>0.500000</td>\n",
       "    </tr>\n",
       "    <tr>\n",
       "      <td>4</td>\n",
       "      <td>4</td>\n",
       "      <td>2020-06-12 11:57:10+00:00</td>\n",
       "      <td>I had called Air India customer care, but was ...</td>\n",
       "      <td>khanra_samapan</td>\n",
       "      <td>i had called air india customer care but was i...</td>\n",
       "      <td>0.237500</td>\n",
       "    </tr>\n",
       "  </tbody>\n",
       "</table>\n",
       "</div>"
      ],
      "text/plain": [
       "   Sr_No                       date  \\\n",
       "0      0  2020-06-12 12:06:32+00:00   \n",
       "1      1  2020-06-12 12:04:49+00:00   \n",
       "2      2  2020-06-12 12:03:30+00:00   \n",
       "3      3  2020-06-12 11:59:53+00:00   \n",
       "4      4  2020-06-12 11:57:10+00:00   \n",
       "\n",
       "                                                text         username  \\\n",
       "0  Government mulling to include sudden loss of t...  TheHansIndiaWeb   \n",
       "1  I know what is common THESE COUNTRIES TRIED SO...    sudarshansvvs   \n",
       "2  To effectively battle Covid-19, India must do ...     DesiDisaNews   \n",
       "3  You should also seek their expertise in handli...    mizozeitgeist   \n",
       "4  I had called Air India customer care, but was ...   khanra_samapan   \n",
       "\n",
       "                                          tidy_tweet  polarity  \n",
       "0  government mulling to include sudden loss of t...  0.000000  \n",
       "1  i know what is common these countries tried so... -0.195833  \n",
       "2  to effectively battle india must do much more ...  0.550000  \n",
       "3  you should also seek their expertise in handli...  0.500000  \n",
       "4  i had called air india customer care but was i...  0.237500  "
      ]
     },
     "execution_count": 128,
     "metadata": {},
     "output_type": "execute_result"
    }
   ],
   "source": [
    "data['polarity']=pol\n",
    "data.head()"
   ]
  },
  {
   "cell_type": "code",
   "execution_count": 129,
   "metadata": {},
   "outputs": [
    {
     "data": {
      "text/html": [
       "<div>\n",
       "<style scoped>\n",
       "    .dataframe tbody tr th:only-of-type {\n",
       "        vertical-align: middle;\n",
       "    }\n",
       "\n",
       "    .dataframe tbody tr th {\n",
       "        vertical-align: top;\n",
       "    }\n",
       "\n",
       "    .dataframe thead th {\n",
       "        text-align: right;\n",
       "    }\n",
       "</style>\n",
       "<table border=\"1\" class=\"dataframe\">\n",
       "  <thead>\n",
       "    <tr style=\"text-align: right;\">\n",
       "      <th></th>\n",
       "      <th>Sr_No</th>\n",
       "      <th>date</th>\n",
       "      <th>text</th>\n",
       "      <th>username</th>\n",
       "      <th>tidy_tweet</th>\n",
       "      <th>polarity</th>\n",
       "      <th>label</th>\n",
       "    </tr>\n",
       "  </thead>\n",
       "  <tbody>\n",
       "    <tr>\n",
       "      <td>0</td>\n",
       "      <td>0</td>\n",
       "      <td>2020-06-12 12:06:32+00:00</td>\n",
       "      <td>Government mulling to include sudden loss of t...</td>\n",
       "      <td>TheHansIndiaWeb</td>\n",
       "      <td>government mulling to include sudden loss of t...</td>\n",
       "      <td>0.000000</td>\n",
       "      <td>1</td>\n",
       "    </tr>\n",
       "    <tr>\n",
       "      <td>1</td>\n",
       "      <td>1</td>\n",
       "      <td>2020-06-12 12:04:49+00:00</td>\n",
       "      <td>I know what is common THESE COUNTRIES TRIED SO...</td>\n",
       "      <td>sudarshansvvs</td>\n",
       "      <td>i know what is common these countries tried so...</td>\n",
       "      <td>-0.195833</td>\n",
       "      <td>0</td>\n",
       "    </tr>\n",
       "    <tr>\n",
       "      <td>2</td>\n",
       "      <td>2</td>\n",
       "      <td>2020-06-12 12:03:30+00:00</td>\n",
       "      <td>To effectively battle Covid-19, India must do ...</td>\n",
       "      <td>DesiDisaNews</td>\n",
       "      <td>to effectively battle india must do much more ...</td>\n",
       "      <td>0.550000</td>\n",
       "      <td>1</td>\n",
       "    </tr>\n",
       "    <tr>\n",
       "      <td>3</td>\n",
       "      <td>3</td>\n",
       "      <td>2020-06-12 11:59:53+00:00</td>\n",
       "      <td>You should also seek their expertise in handli...</td>\n",
       "      <td>mizozeitgeist</td>\n",
       "      <td>you should also seek their expertise in handli...</td>\n",
       "      <td>0.500000</td>\n",
       "      <td>1</td>\n",
       "    </tr>\n",
       "    <tr>\n",
       "      <td>4</td>\n",
       "      <td>4</td>\n",
       "      <td>2020-06-12 11:57:10+00:00</td>\n",
       "      <td>I had called Air India customer care, but was ...</td>\n",
       "      <td>khanra_samapan</td>\n",
       "      <td>i had called air india customer care but was i...</td>\n",
       "      <td>0.237500</td>\n",
       "      <td>1</td>\n",
       "    </tr>\n",
       "  </tbody>\n",
       "</table>\n",
       "</div>"
      ],
      "text/plain": [
       "   Sr_No                       date  \\\n",
       "0      0  2020-06-12 12:06:32+00:00   \n",
       "1      1  2020-06-12 12:04:49+00:00   \n",
       "2      2  2020-06-12 12:03:30+00:00   \n",
       "3      3  2020-06-12 11:59:53+00:00   \n",
       "4      4  2020-06-12 11:57:10+00:00   \n",
       "\n",
       "                                                text         username  \\\n",
       "0  Government mulling to include sudden loss of t...  TheHansIndiaWeb   \n",
       "1  I know what is common THESE COUNTRIES TRIED SO...    sudarshansvvs   \n",
       "2  To effectively battle Covid-19, India must do ...     DesiDisaNews   \n",
       "3  You should also seek their expertise in handli...    mizozeitgeist   \n",
       "4  I had called Air India customer care, but was ...   khanra_samapan   \n",
       "\n",
       "                                          tidy_tweet  polarity  label  \n",
       "0  government mulling to include sudden loss of t...  0.000000      1  \n",
       "1  i know what is common these countries tried so... -0.195833      0  \n",
       "2  to effectively battle india must do much more ...  0.550000      1  \n",
       "3  you should also seek their expertise in handli...  0.500000      1  \n",
       "4  i had called air india customer care but was i...  0.237500      1  "
      ]
     },
     "execution_count": 129,
     "metadata": {},
     "output_type": "execute_result"
    }
   ],
   "source": [
    "data['label'] = np.where(data['polarity'] >= 0 , 1, 0)\n",
    "data.head()"
   ]
  },
  {
   "cell_type": "code",
   "execution_count": 130,
   "metadata": {},
   "outputs": [],
   "source": [
    "from sklearn.model_selection import train_test_split\n",
    "\n",
    "# Split data into training and test sets\n",
    "X_train, X_test, y_train, y_test = train_test_split(data['text'], \n",
    "                                                    data['label'], \n",
    "                                                    random_state=0)"
   ]
  },
  {
   "cell_type": "code",
   "execution_count": 131,
   "metadata": {},
   "outputs": [],
   "source": [
    "from sklearn.feature_extraction.text import CountVectorizer\n",
    "from sklearn.naive_bayes import MultinomialNB\n",
    "from sklearn.naive_bayes import BernoulliNB\n",
    "from sklearn.metrics import roc_auc_score\n",
    "\n",
    "def test1():\n",
    "    vect = CountVectorizer().fit(X_train)\n",
    "    X_train_vectorized = vect.transform(X_train)\n",
    "  \n",
    "    Nb= BernoulliNB(alpha=0.13) \n",
    "    a= Nb.fit(X_train_vectorized,y_train)\n",
    "    b=a.predict(vect.transform(X_test))\n",
    "    c= roc_auc_score(y_test,b)\n",
    "    \n",
    "    return c"
   ]
  },
  {
   "cell_type": "code",
   "execution_count": 132,
   "metadata": {},
   "outputs": [
    {
     "data": {
      "text/plain": [
       "0.7233186454001944"
      ]
     },
     "execution_count": 132,
     "metadata": {},
     "output_type": "execute_result"
    }
   ],
   "source": [
    "test1()"
   ]
  },
  {
   "cell_type": "code",
   "execution_count": 110,
   "metadata": {},
   "outputs": [],
   "source": [
    "from sklearn.feature_extraction.text import TfidfVectorizer\n",
    "def test2():\n",
    "    vect = TfidfVectorizer(min_df=3).fit(X_train)\n",
    "    X_train_vectorized = vect.transform(X_train)\n",
    "    feature_names = np.array(vect.get_feature_names())\n",
    "    \n",
    "    Nb= MultinomialNB(alpha=0.1) \n",
    "    a= Nb.fit(X_train_vectorized,y_train)\n",
    "    b=a.predict(vect.transform(X_test))\n",
    "    c= roc_auc_score(y_test,b)\n",
    "    \n",
    "\n",
    "    \n",
    "    return c"
   ]
  },
  {
   "cell_type": "code",
   "execution_count": 111,
   "metadata": {},
   "outputs": [
    {
     "data": {
      "text/plain": [
       "0.6519270154533606"
      ]
     },
     "execution_count": 111,
     "metadata": {},
     "output_type": "execute_result"
    }
   ],
   "source": [
    "test2()"
   ]
  },
  {
   "cell_type": "code",
   "execution_count": 112,
   "metadata": {},
   "outputs": [],
   "source": [
    "def add_feature(X, feature_to_add):\n",
    "    \"\"\"\n",
    "    Returns sparse feature matrix with added feature.\n",
    "    feature_to_add can also be a list of features.\n",
    "    \"\"\"\n",
    "    from scipy.sparse import csr_matrix, hstack\n",
    "    return hstack([X, csr_matrix(feature_to_add).T], 'csr')"
   ]
  },
  {
   "cell_type": "code",
   "execution_count": 113,
   "metadata": {},
   "outputs": [],
   "source": [
    "from sklearn.svm import SVC\n",
    "\n",
    "def test3():\n",
    "    vectorizer = TfidfVectorizer(min_df=3)\n",
    "    X_train_transformed = vectorizer.fit_transform(X_train)\n",
    "    X_train_transformed_with_length = add_feature(X_train_transformed, X_train.str.len())\n",
    "\n",
    "    X_test_transformed = vectorizer.transform(X_test)\n",
    "    X_test_transformed_with_length = add_feature(X_test_transformed, X_test.str.len())\n",
    "\n",
    "    clf = SVC(C=10000)\n",
    "\n",
    "    clf.fit(X_train_transformed_with_length, y_train)\n",
    "\n",
    "    y_predicted = clf.predict(X_test_transformed_with_length)\n",
    "    \n",
    "    return roc_auc_score(y_test, y_predicted)"
   ]
  },
  {
   "cell_type": "code",
   "execution_count": 114,
   "metadata": {},
   "outputs": [
    {
     "name": "stderr",
     "output_type": "stream",
     "text": [
      "C:\\Users\\ADMIN\\Anaconda3\\lib\\site-packages\\sklearn\\svm\\base.py:193: FutureWarning: The default value of gamma will change from 'auto' to 'scale' in version 0.22 to account better for unscaled features. Set gamma explicitly to 'auto' or 'scale' to avoid this warning.\n",
      "  \"avoid this warning.\", FutureWarning)\n"
     ]
    },
    {
     "data": {
      "text/plain": [
       "0.6681664908252136"
      ]
     },
     "execution_count": 114,
     "metadata": {},
     "output_type": "execute_result"
    }
   ],
   "source": [
    "test3()"
   ]
  },
  {
   "cell_type": "code",
   "execution_count": 115,
   "metadata": {},
   "outputs": [],
   "source": [
    "from sklearn.linear_model import LogisticRegression\n",
    "\n",
    "def test4():\n",
    "    import re\n",
    "\n",
    "    vect = TfidfVectorizer(min_df=3).fit(X_train)\n",
    "\n",
    "    X_train_vectorized = vect.transform(X_train)\n",
    "    X_test_vectorized= vect.transform(X_test)\n",
    "    X_train_vectorized = add_feature(X_train_vectorized, X_train.str.len())\n",
    "    X_train_vectorized = add_feature(X_train_vectorized, X_train.apply(lambda row: len(re.findall(r'(\\d)', row))))\n",
    "    X_test_vectorized = add_feature(X_test_vectorized, X_test.str.len())\n",
    "    X_test_vectorized = add_feature(X_test_vectorized, X_test.apply(lambda row: len(re.findall(r'(\\d)', row))))\n",
    "    model = LogisticRegression(C=10000)\n",
    "    fit=model.fit(X_train_vectorized, y_train)\n",
    "\n",
    "    predictions = model.predict(X_test_vectorized)\n",
    "    \n",
    "    \n",
    "    return roc_auc_score(y_test,predictions)"
   ]
  },
  {
   "cell_type": "code",
   "execution_count": 116,
   "metadata": {},
   "outputs": [
    {
     "name": "stderr",
     "output_type": "stream",
     "text": [
      "C:\\Users\\ADMIN\\Anaconda3\\lib\\site-packages\\sklearn\\linear_model\\logistic.py:432: FutureWarning: Default solver will be changed to 'lbfgs' in 0.22. Specify a solver to silence this warning.\n",
      "  FutureWarning)\n"
     ]
    },
    {
     "data": {
      "text/plain": [
       "0.7379755476944081"
      ]
     },
     "execution_count": 116,
     "metadata": {},
     "output_type": "execute_result"
    }
   ],
   "source": [
    "test4()"
   ]
  },
  {
   "cell_type": "code",
   "execution_count": 117,
   "metadata": {},
   "outputs": [],
   "source": [
    "def test5():\n",
    "    from sklearn.linear_model import LogisticRegression\n",
    "    \n",
    "    import re\n",
    "\n",
    "    vect = CountVectorizer(min_df=5, ngram_range=(2,5),analyzer='char_wb').fit(X_train)\n",
    "\n",
    "    X_train_vectorized = vect.transform(X_train)\n",
    "    X_test_vectorized= vect.transform(X_test)\n",
    "    X_train_vectorized = add_feature(X_train_vectorized, X_train.str.len())\n",
    "    X_train_vectorized = add_feature(X_train_vectorized, X_train.apply(lambda row: len(re.findall(r'(\\d)', row))))\n",
    "    X_test_vectorized = add_feature(X_test_vectorized, X_test.str.len())\n",
    "    X_test_vectorized = add_feature(X_test_vectorized, X_test.apply(lambda row: len(re.findall(r'(\\d)', row))))\n",
    "    X_train_vectorized = add_feature(X_train_vectorized, X_train.apply(lambda row: len(re.findall(r'(\\W)', row))))\n",
    "    X_test_vectorized = add_feature(X_test_vectorized, X_test.apply(lambda row: len(re.findall(r'(\\W)', row))))\n",
    "    \n",
    "    \n",
    "    model=LogisticRegression(C=100)\n",
    "    \n",
    "    fit=model.fit(X_train_vectorized, y_train)\n",
    "    \n",
    "\n",
    "    predictions = model.predict(X_test_vectorized)\n",
    "    \n",
    "    feature_names = np.array(vect.get_feature_names()+['length_of_doc', 'digit_count', 'non_word_char_count'])\n",
    "\n",
    "    \n",
    "    sorted_coef_index = model.coef_[0].argsort()\n",
    "    a=feature_names[sorted_coef_index[:10]]\n",
    "    b=feature_names[sorted_coef_index[:-11:-1]]\n",
    "    c=list(a)\n",
    "    d=list(b)\n",
    "    \n",
    "    f=roc_auc_score(y_test,predictions)\n",
    "    return f\n",
    "\n"
   ]
  },
  {
   "cell_type": "code",
   "execution_count": 118,
   "metadata": {},
   "outputs": [
    {
     "name": "stderr",
     "output_type": "stream",
     "text": [
      "C:\\Users\\ADMIN\\Anaconda3\\lib\\site-packages\\sklearn\\linear_model\\logistic.py:432: FutureWarning: Default solver will be changed to 'lbfgs' in 0.22. Specify a solver to silence this warning.\n",
      "  FutureWarning)\n"
     ]
    },
    {
     "data": {
      "text/plain": [
       "(0.6906845404331906,\n",
       " ['ad ', ' fai', ' wors', 'wors', ' fail', 'ng', ' d', 'ery', 'ta ', 'du'],\n",
       " ['ne ', 'lle', ' fi', 'id ', 'll', 'sit', 'na', 'tte', 'u ', 'fi'])"
      ]
     },
     "execution_count": 118,
     "metadata": {},
     "output_type": "execute_result"
    }
   ],
   "source": [
    "test5()"
   ]
  },
  {
   "cell_type": "code",
   "execution_count": null,
   "metadata": {},
   "outputs": [],
   "source": []
  }
 ],
 "metadata": {
  "kernelspec": {
   "display_name": "Python 3",
   "language": "python",
   "name": "python3"
  },
  "language_info": {
   "codemirror_mode": {
    "name": "ipython",
    "version": 3
   },
   "file_extension": ".py",
   "mimetype": "text/x-python",
   "name": "python",
   "nbconvert_exporter": "python",
   "pygments_lexer": "ipython3",
   "version": "3.7.4"
  }
 },
 "nbformat": 4,
 "nbformat_minor": 2
}
